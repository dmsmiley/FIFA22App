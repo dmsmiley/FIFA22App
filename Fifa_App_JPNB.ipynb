{
 "cells": [
  {
   "cell_type": "code",
   "execution_count": 20,
   "id": "c450c44e-551d-4fa7-951b-9392d762efb3",
   "metadata": {},
   "outputs": [],
   "source": [
    "import pandas as pd\n",
    "import streamlit as st\n",
    "from sklearn.neighbors import NearestNeighbors\n",
    "from scipy.sparse import csr_matrix\n",
    "from sklearn.preprocessing import StandardScaler\n",
    "\n",
    "# Load the data\n",
    "data_file = 'fifa22data.csv'\n",
    "df = pd.read_csv(data_file)\n",
    "df = df.dropna(subset=[\"ValueEUR\"])\n",
    "df = df.drop_duplicates(subset=[\"FullName\"])\n",
    "df = df.set_index('FullName')"
   ]
  },
  {
   "cell_type": "code",
   "execution_count": 73,
   "id": "4b097926-f04d-44a5-9163-4e0d4af906f1",
   "metadata": {},
   "outputs": [
    {
     "data": {
      "text/html": [
       "<div>\n",
       "<style scoped>\n",
       "    .dataframe tbody tr th:only-of-type {\n",
       "        vertical-align: middle;\n",
       "    }\n",
       "\n",
       "    .dataframe tbody tr th {\n",
       "        vertical-align: top;\n",
       "    }\n",
       "\n",
       "    .dataframe thead th {\n",
       "        text-align: right;\n",
       "    }\n",
       "</style>\n",
       "<table border=\"1\" class=\"dataframe\">\n",
       "  <thead>\n",
       "    <tr style=\"text-align: right;\">\n",
       "      <th></th>\n",
       "      <th>Unnamed: 0</th>\n",
       "      <th>ID</th>\n",
       "      <th>Name</th>\n",
       "      <th>Age</th>\n",
       "      <th>Height</th>\n",
       "      <th>Weight</th>\n",
       "      <th>PhotoUrl</th>\n",
       "      <th>Nationality</th>\n",
       "      <th>Flag</th>\n",
       "      <th>Club</th>\n",
       "      <th>...</th>\n",
       "      <th>LMRating</th>\n",
       "      <th>CMRating</th>\n",
       "      <th>RMRating</th>\n",
       "      <th>LWBRating</th>\n",
       "      <th>CDMRating</th>\n",
       "      <th>RWBRating</th>\n",
       "      <th>LBRating</th>\n",
       "      <th>CBRating</th>\n",
       "      <th>RBRating</th>\n",
       "      <th>GKRating</th>\n",
       "    </tr>\n",
       "    <tr>\n",
       "      <th>FullName</th>\n",
       "      <th></th>\n",
       "      <th></th>\n",
       "      <th></th>\n",
       "      <th></th>\n",
       "      <th></th>\n",
       "      <th></th>\n",
       "      <th></th>\n",
       "      <th></th>\n",
       "      <th></th>\n",
       "      <th></th>\n",
       "      <th></th>\n",
       "      <th></th>\n",
       "      <th></th>\n",
       "      <th></th>\n",
       "      <th></th>\n",
       "      <th></th>\n",
       "      <th></th>\n",
       "      <th></th>\n",
       "      <th></th>\n",
       "      <th></th>\n",
       "      <th></th>\n",
       "    </tr>\n",
       "  </thead>\n",
       "  <tbody>\n",
       "    <tr>\n",
       "      <th>Kylian Mbappé</th>\n",
       "      <td>3</td>\n",
       "      <td>231747</td>\n",
       "      <td>K. Mbappé</td>\n",
       "      <td>22</td>\n",
       "      <td>182</td>\n",
       "      <td>73</td>\n",
       "      <td>https://cdn.sofifa.net/players/231/747/22_240.png</td>\n",
       "      <td>France</td>\n",
       "      <td>https://cdn.sofifa.net/teams/1335/180.png</td>\n",
       "      <td>Paris Saint-Germain</td>\n",
       "      <td>...</td>\n",
       "      <td>92</td>\n",
       "      <td>84</td>\n",
       "      <td>92</td>\n",
       "      <td>70</td>\n",
       "      <td>66</td>\n",
       "      <td>70</td>\n",
       "      <td>66</td>\n",
       "      <td>57</td>\n",
       "      <td>66</td>\n",
       "      <td>21</td>\n",
       "    </tr>\n",
       "  </tbody>\n",
       "</table>\n",
       "<p>1 rows × 94 columns</p>\n",
       "</div>"
      ],
      "text/plain": [
       "               Unnamed: 0      ID       Name  Age  Height  Weight  \\\n",
       "FullName                                                            \n",
       "Kylian Mbappé           3  231747  K. Mbappé   22     182      73   \n",
       "\n",
       "                                                        PhotoUrl Nationality  \\\n",
       "FullName                                                                       \n",
       "Kylian Mbappé  https://cdn.sofifa.net/players/231/747/22_240.png      France   \n",
       "\n",
       "                                                    Flag                 Club  \\\n",
       "FullName                                                                        \n",
       "Kylian Mbappé  https://cdn.sofifa.net/teams/1335/180.png  Paris Saint-Germain   \n",
       "\n",
       "               ... LMRating CMRating RMRating  LWBRating  CDMRating  \\\n",
       "FullName       ...                                                    \n",
       "Kylian Mbappé  ...       92       84       92         70         66   \n",
       "\n",
       "               RWBRating  LBRating  CBRating RBRating GKRating  \n",
       "FullName                                                        \n",
       "Kylian Mbappé         70        66        57       66       21  \n",
       "\n",
       "[1 rows x 94 columns]"
      ]
     },
     "execution_count": 73,
     "metadata": {},
     "output_type": "execute_result"
    }
   ],
   "source": [
    "df[df['ValueEUR'] == df['ValueEUR'].max()]"
   ]
  },
  {
   "cell_type": "code",
   "execution_count": 68,
   "id": "9dc02083-a468-4753-9ad5-530d6f0f1cda",
   "metadata": {},
   "outputs": [
    {
     "data": {
      "text/plain": [
       "5000000.0"
      ]
     },
     "execution_count": 68,
     "metadata": {},
     "output_type": "execute_result"
    }
   ],
   "source": [
    "import numpy as np\n",
    "np.quantile(df['ValueEUR'], .90)"
   ]
  },
  {
   "cell_type": "code",
   "execution_count": 22,
   "id": "7fe25006-acb2-4ab4-a5ca-4cbc22a9e3cb",
   "metadata": {},
   "outputs": [],
   "source": [
    "#st.markdown(\"### Player Recommendation\")\n",
    "\n",
    "# PLayer Selection\n",
    "player = \"Lionel Messi\" #st.selectbox('Type First Player: ', options=list(df[:500].index.values))\n",
    "\n",
    "# Add a slider for selecting the maximum ValueEUR\n",
    "max_value = int(df['ValueEUR'].mean())#st.slider(\n",
    "    #\"Select the Maximum Player Value:\",\n",
    "    #min_value=int(df['ValueEUR'].min()),\n",
    "    #max_value=int(df['ValueEUR'].max()),\n",
    "    #value=int(df['ValueEUR'].max())\n",
    "#)\n",
    "\n",
    "# Filter the DataFrame based on the selected maximum ValueEUR\n",
    "df_filtered = df[df['ValueEUR'] <= max_value]\n",
    "\n",
    "# Ensure the player selected is in the filtered DataFrame; if not, add them\n",
    "if player not in df_filtered.index:\n",
    "    df_filtered = pd.concat([df.loc[[player]], df_filtered])\n",
    "\n",
    "df_columns = ['Age', 'Height', 'Weight', 'Overall', 'Potential', 'Growth', 'TotalStats',\n",
    "                'BaseStats', 'ValueEUR', 'WageEUR', 'ReleaseClause', 'IntReputation',\n",
    "                'WeakFoot', 'SkillMoves', 'PaceTotal', 'ShootingTotal', 'PassingTotal', 'DribblingTotal',\n",
    "                'DefendingTotal', 'PhysicalityTotal', 'Crossing', 'Finishing', 'HeadingAccuracy',\n",
    "                'ShortPassing', 'Volleys', 'Dribbling', 'Curve', 'FKAccuracy',\n",
    "                'LongPassing', 'BallControl', 'Acceleration', 'SprintSpeed', 'Agility',\n",
    "                'Reactions', 'Balance', 'ShotPower', 'Jumping', 'Stamina', 'Strength',\n",
    "                'LongShots', 'Aggression', 'Interceptions', 'Positioning', 'Vision',\n",
    "                'Penalties', 'Composure', 'Marking', 'StandingTackle', 'SlidingTackle',\n",
    "                'GKDiving', 'GKHandling', 'GKKicking', 'GKPositioning', 'GKReflexes',\n",
    "                'STRating', 'LWRating', 'LFRating', 'CFRating', 'RFRating', 'RWRating',\n",
    "                'CAMRating', 'LMRating', 'CMRating', 'RMRating', 'LWBRating',\n",
    "                'CDMRating', 'RWBRating', 'LBRating', 'CBRating', 'RBRating', 'GKRating']\n",
    "\n",
    "knn_df = df_filtered[:1500][df_columns]"
   ]
  },
  {
   "cell_type": "code",
   "execution_count": 23,
   "id": "a63d5de4-1c9b-4463-84d2-8b8635d5c337",
   "metadata": {},
   "outputs": [],
   "source": [
    "# Step 1: Normalize the feature data\n",
    "# StandardScaler will normalize the features (mean=0 and variance=1)\n",
    "scaler = StandardScaler()\n",
    "knn_scaled = scaler.fit_transform(knn_df)\n",
    "\n",
    "# Step 2: Create a DataFrame from the normalized data\n",
    "# This step is useful if you want to maintain a pandas DataFrame structure\n",
    "# after scaling. It keeps the original index and column names.\n",
    "knn_final = pd.DataFrame(data=knn_scaled, index=knn_df.index, columns=knn_df.columns)\n",
    "\n",
    "# Step 3: Convert the DataFrame to a sparse matrix\n",
    "# csr_matrix is used here to create a compressed sparse row matrix from knn_final,\n",
    "# which can be more efficient for fitting KNN models especially when dealing with\n",
    "# a large amount of data and features.\n",
    "feature_matrix = csr_matrix(knn_final.values)\n",
    "\n",
    "# Step 4: Initialize and fit the KNN model\n",
    "# Here, we use the cosine metric and brute force algorithm. You can adjust\n",
    "# these parameters based on your specific needs or to experiment with performance.\n",
    "knn_model = NearestNeighbors(metric='cosine', algorithm='brute')\n",
    "knn_model.fit(feature_matrix)\n",
    "\n",
    "player_list = []\n",
    "rec_list = []"
   ]
  },
  {
   "cell_type": "code",
   "execution_count": 24,
   "id": "6ffc1828-d09f-4fda-bb2e-48c80e95fe4e",
   "metadata": {},
   "outputs": [],
   "source": [
    "for _ in knn_final.index:\n",
    "    player_data = knn_final.loc[_, :].values.reshape(1, -1)\n",
    "    \n",
    "    # Skip the current iteration if the player_data shape is not (1, 71)\n",
    "    if player_data.shape[1] != 71:\n",
    "        print(f\"Skipping {_} due to unexpected shape: {player_data.shape}\")\n",
    "        continue\n",
    "\n",
    "    distances, indices = knn_model.kneighbors(knn_final.loc[_, :].values.reshape(1, -1), n_neighbors=11)\n",
    "\n",
    "    for elem in range(0, len(distances.flatten())):\n",
    "        if elem == 0:\n",
    "            # For the first element, which is the player itself, append to player_list\n",
    "            player_list.append([player])\n",
    "        else:\n",
    "            # For other elements, which are the recommended neighbors, append to rec_list\n",
    "            rec_list.append([_, elem, knn_final.index[indices.flatten()[elem]], distances.flatten()[elem]])"
   ]
  },
  {
   "cell_type": "code",
   "execution_count": 25,
   "id": "6e2c69de-665c-49f1-ba06-3c7451b470a0",
   "metadata": {},
   "outputs": [
    {
     "data": {
      "text/plain": [
       "'Lionel Messi'"
      ]
     },
     "execution_count": 25,
     "metadata": {},
     "output_type": "execute_result"
    }
   ],
   "source": [
    "player"
   ]
  },
  {
   "cell_type": "code",
   "execution_count": 45,
   "id": "bc2fb379-11c0-4dad-8e90-641bf58bd077",
   "metadata": {},
   "outputs": [],
   "source": [
    "rec_df = pd.DataFrame(rec_list, columns=['search_player', 'rec_number', 'rec_player', 'distance_score'])\n",
    "\n",
    "top_recs = list(rec_df[rec_df['search_player'] == player]['rec_player'])"
   ]
  },
  {
   "cell_type": "code",
   "execution_count": 46,
   "id": "cdbee2cb-4907-4318-add5-4a44ccd04338",
   "metadata": {},
   "outputs": [
    {
     "data": {
      "text/plain": [
       "['Romain Hamouma',\n",
       " 'Ryan Babel',\n",
       " 'Scott Arfield',\n",
       " 'José Sosa',\n",
       " 'Pierrick Capelle',\n",
       " 'Steven Davis',\n",
       " 'Elías Hernández',\n",
       " 'Daniel Didavi',\n",
       " 'Marco Benassi',\n",
       " 'Domenico Criscito']"
      ]
     },
     "execution_count": 46,
     "metadata": {},
     "output_type": "execute_result"
    }
   ],
   "source": [
    "top_recs"
   ]
  }
 ],
 "metadata": {
  "kernelspec": {
   "display_name": "Python 3 (ipykernel)",
   "language": "python",
   "name": "python3"
  },
  "language_info": {
   "codemirror_mode": {
    "name": "ipython",
    "version": 3
   },
   "file_extension": ".py",
   "mimetype": "text/x-python",
   "name": "python",
   "nbconvert_exporter": "python",
   "pygments_lexer": "ipython3",
   "version": "3.9.12"
  }
 },
 "nbformat": 4,
 "nbformat_minor": 5
}
